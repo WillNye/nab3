{
 "cells": [
  {
   "cell_type": "code",
   "execution_count": 1,
   "metadata": {
    "collapsed": true,
    "pycharm": {
     "is_executing": false
    }
   },
   "outputs": [],
   "source": [
    "import boto3\n",
    "from double_click import echo\n",
    "\n",
    "from nab3 import AWS as NabAWS,  Filter\n",
    "from nab3.helpers.cloud_watch import md_statistics_summary, set_n_service_stats\n",
    "\n",
    "AWS = NabAWS(boto3.Session())\n",
    "\"\"\"\n",
    "Passing boto3.Session here to illustrate how multiple sessions are supported.\n",
    "The Service's Session is tied to the nab3.AWS instance that was used to create it.\n",
    "\n",
    "So, if you wanted to retrieve all ASGs in eu-central-1 and us-east-1 \n",
    "\n",
    "US_AWS = NabAWS(boto3.Session(region_name='us-east-1'))\n",
    "EU_AWS = NabAWS(boto3.Session(region_name='eu-central-1'))\n",
    "\n",
    "yeah you could get cute with this but it's just an example\n",
    "us_asgs = await US_AWS.asg.list()\n",
    "eu_asgs = await EU_AWS.asg.list()\n",
    "\n",
    "\"\"\""
   ]
  },
  {
   "cell_type": "code",
   "execution_count": null,
   "outputs": [],
   "source": [
    "    \n",
    "ASG = await AWS.asg.list()\n",
    "\"\"\" \n",
    "Alternatively, you could set ASG = await AWS.ecs_cluster.list() and the blocks below would behave identically. \n",
    "This is a demonstration of the flexibility of nab3 as well as it's consistency to allow for greater code reuse. \n",
    "\n",
    "# ASG = await AWS.ecs_cluster.list()\n",
    "\"\"\""
   ],
   "metadata": {
    "collapsed": false,
    "pycharm": {
     "name": "#%%\n"
    }
   }
  },
  {
   "cell_type": "code",
   "execution_count": 2,
   "outputs": [
    {
     "name": "stdout",
     "text": [
      "['sample_service_1', 'sample_service_2']\n"
     ],
     "output_type": "stream"
    }
   ],
   "source": [
    "# Include all ASGs where the name contains either of the provided strings in the list\n",
    "f = Filter(name__icontains_any=['sample_service_1', 'sample_service_2'])\n",
    "filtered_asg = await f.run(ASG)\n",
    "print([c.name for c in filtered_asg])"
   ],
   "metadata": {
    "collapsed": false,
    "pycharm": {
     "name": "#%%\n",
     "is_executing": false
    }
   }
  },
  {
   "cell_type": "code",
   "execution_count": 9,
   "outputs": [],
   "source": [
    "await set_n_service_stats(filtered_asg)"
   ],
   "metadata": {
    "collapsed": false,
    "pycharm": {
     "name": "#%%\n",
     "is_executing": false
    }
   }
  },
  {
   "cell_type": "code",
   "source": [
    "md_output = \"\"\n",
    "for asg in filtered_asg:\n",
    "    md_output += f\"#{asg.name}\\n\"\n",
    "    \n",
    "    for stats in asg.stats_list:\n",
    "        md_output += md_statistics_summary(stats, False)\n",
    "\n",
    "    md_output += \"\\n---\\n\"\n",
    "\n",
    "with open('asg_stats.md', 'w') as f:\n",
    "    f.write(md_output)"
   ],
   "metadata": {
    "collapsed": false,
    "pycharm": {
     "name": "#%%\n",
     "is_executing": false
    }
   },
   "execution_count": 10,
   "outputs": []
  },
  {
   "cell_type": "code",
   "execution_count": null,
   "outputs": [],
   "source": [
    "cluster = filtered_asg[0]\n",
    "\n",
    "# fields will return a dict containing the instance's attributes along with the attribute's type.\n",
    "echo(cluster.fields())\n",
    "\n",
    "# instances hasn't been explicitly loaded so this will return False\n",
    "echo(cluster.instances.is_loaded())\n",
    "await filtered_asg.fetch('instances')\n",
    "\n",
    "# Now it works\n",
    "instance = cluster.instances[0]\n",
    "echo(f'Instances loaded {cluster.instances.is_loaded()}\\n{instance.fields()}')\n",
    "\n"
   ],
   "metadata": {
    "collapsed": false,
    "pycharm": {
     "name": "#%%\n"
    }
   }
  }
 ],
 "metadata": {
  "kernelspec": {
   "display_name": "Python 3",
   "language": "python",
   "name": "python3"
  },
  "language_info": {
   "codemirror_mode": {
    "name": "ipython",
    "version": 2
   },
   "file_extension": ".py",
   "mimetype": "text/x-python",
   "name": "python",
   "nbconvert_exporter": "python",
   "pygments_lexer": "ipython2",
   "version": "2.7.6"
  },
  "pycharm": {
   "stem_cell": {
    "cell_type": "raw",
    "source": [],
    "metadata": {
     "collapsed": false
    }
   }
  }
 },
 "nbformat": 4,
 "nbformat_minor": 0
}