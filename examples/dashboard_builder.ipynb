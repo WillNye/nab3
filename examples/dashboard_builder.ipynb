{
 "cells": [
  {
   "cell_type": "code",
   "execution_count": null,
   "outputs": [],
   "source": [
    "\"\"\"\n",
    "Creating cloudwatch dashboards can be tedious and error prone.\n",
    "This example provides a foundation on how to use nab3 to create a standardized cloudwatch dashboard in seconds.\n",
    "It's repeatable, extendable and easy to adjust.\n",
    "\"\"\"\n",
    "\n",
    "import json\n",
    "\n",
    "from double_click import echo\n",
    "\n",
    "from nab3 import AWS as NabAWS\n",
    "\n",
    "AWS = NabAWS()"
   ],
   "metadata": {
    "collapsed": false,
    "pycharm": {
     "name": "#%%\n"
    }
   }
  },
  {
   "cell_type": "code",
   "execution_count": null,
   "outputs": [],
   "source": [
    "SERVICE_NAME = 'sample'\n",
    "EXCLUDED_ECS_SERVICES = []\n",
    "ELASTICACHE_CLUSTER = SERVICE_NAME\n",
    "RDS_CLUSTER = None\n",
    "\n",
    "if RDS_CLUSTER:\n",
    "    try:\n",
    "        await AWS.rds_cluster.get(id=RDS_CLUSTER)\n",
    "    except:\n",
    "        echo(f'{RDS_CLUSTER} not found. Setting RDS_CLUSTER = None')\n",
    "        RDS_CLUSTER = None\n",
    "\n",
    "if ELASTICACHE_CLUSTER:\n",
    "    try:\n",
    "        await AWS.elasticache_cluster.get(id=ELASTICACHE_CLUSTER)\n",
    "    except:\n",
    "        echo(f'{ELASTICACHE_CLUSTER} not found. Setting ELASTICACHE_CLUSTER = None')\n",
    "        ELASTICACHE_CLUSTER = None\n",
    "\n",
    "try:\n",
    "    ALB = await AWS.load_balancer.get(name=SERVICE_NAME)\n",
    "except:\n",
    "    ALB = None\n",
    "\n",
    "try:\n",
    "    ECS_CLUSTER = await AWS.ecs_cluster.get(name=SERVICE_NAME, with_related=['services'])\n",
    "except:\n",
    "    ECS_CLUSTER = None"
   ],
   "metadata": {
    "collapsed": false,
    "pycharm": {
     "name": "#%%\n"
    }
   }
  },
  {
   "cell_type": "code",
   "execution_count": null,
   "outputs": [],
   "source": [
    "dashboard_source = dict(widgets=[])\n",
    "y = 0"
   ],
   "metadata": {
    "collapsed": false,
    "pycharm": {
     "name": "#%%\n"
    }
   }
  },
  {
   "cell_type": "code",
   "execution_count": null,
   "outputs": [],
   "source": [
    "if ALB:\n",
    "    # ALB Widgets\n",
    "    widget_height = 9\n",
    "    lb_id = ALB.arn.split(':loadbalancer/')[-1]\n",
    "    dashboard_source['widgets'] += [\n",
    "        {\n",
    "                \"type\": \"metric\",\n",
    "                \"x\": 0,\n",
    "                \"y\": y,\n",
    "                \"width\": 12,\n",
    "                \"height\": widget_height,\n",
    "                \"properties\": {\n",
    "                    \"metrics\": [\n",
    "                        [ \"AWS/ApplicationELB\", \"RequestCount\", \"LoadBalancer\", lb_id ],\n",
    "                        [ \".\", \"HTTPCode_Target_2XX_Count\", \".\", \".\" ],\n",
    "                        [ \".\", \"HTTPCode_Target_3XX_Count\", \".\", \".\" ],\n",
    "                        [ \".\", \"HTTPCode_Target_4XX_Count\", \".\", \".\" ],\n",
    "                        [ \".\", \"HTTPCode_Target_5XX_Count\", \".\", \".\" ]\n",
    "                    ],\n",
    "                    \"view\": \"timeSeries\",\n",
    "                    \"stacked\": False,\n",
    "                    \"region\": AWS.region,\n",
    "                    \"stat\": \"Sum\",\n",
    "                    \"period\": 300,\n",
    "                    \"title\": \"API Request Count\"\n",
    "                }\n",
    "            },\n",
    "        {\n",
    "                \"type\": \"metric\",\n",
    "                \"x\": 12,\n",
    "                \"y\": y,\n",
    "                \"width\": 12,\n",
    "                \"height\": widget_height,\n",
    "                \"properties\": {\n",
    "                    \"metrics\": [\n",
    "                        [ \"AWS/ApplicationELB\", \"TargetResponseTime\", \"LoadBalancer\", lb_id, { \"label\": \"Max\", \"stat\": \"Maximum\" } ],\n",
    "                        [ \"...\", { \"label\": \"Average\" } ]\n",
    "                    ],\n",
    "                    \"view\": \"timeSeries\",\n",
    "                    \"stacked\": False,\n",
    "                    \"region\": AWS.region,\n",
    "                    \"title\": \"API Response Time\",\n",
    "                    \"stat\": \"Average\",\n",
    "                    \"period\": 300\n",
    "                }\n",
    "            }\n",
    "    ]\n",
    "    \n",
    "    y += widget_height"
   ],
   "metadata": {
    "collapsed": false,
    "pycharm": {
     "name": "#%%\n"
    }
   }
  },
  {
   "cell_type": "code",
   "execution_count": null,
   "outputs": [],
   "source": [
    "if ECS_CLUSTER:\n",
    "    # ECS Cluster Widgets\n",
    "    widget_height = 6\n",
    "    dashboard_source['widgets'] += [\n",
    "            {\n",
    "                \"type\": \"metric\",\n",
    "                \"x\": 0,\n",
    "                \"y\": y,\n",
    "                \"width\": 12,\n",
    "                \"height\": widget_height,\n",
    "                \"properties\": {\n",
    "                    \"metrics\": [\n",
    "                        [ \"AWS/ECS\", \"CPUUtilization\", \"ClusterName\", ECS_CLUSTER.name, { \"label\": \"Max\", \"stat\": \"Maximum\" } ],\n",
    "                        [ \"...\", { \"label\": \"Average\" } ]\n",
    "                    ],\n",
    "                    \"view\": \"timeSeries\",\n",
    "                    \"stacked\": False,\n",
    "                    \"region\": AWS.region,\n",
    "                    \"title\": \"Cluster CPU Utilization\",\n",
    "                    \"stat\": \"Average\",\n",
    "                    \"period\": 300\n",
    "                }\n",
    "            },\n",
    "            {\n",
    "                \"type\": \"metric\",\n",
    "                \"x\": 12,\n",
    "                \"y\": y,\n",
    "                \"width\": 12,\n",
    "                \"height\": widget_height,\n",
    "                \"properties\": {\n",
    "                    \"metrics\": [\n",
    "                        [ \"AWS/ECS\", \"MemoryUtilization\", \"ClusterName\", ECS_CLUSTER.name, { \"label\": \"Max\", \"stat\": \"Maximum\" } ],\n",
    "                        [ \"...\", { \"label\": \"Average\" } ]\n",
    "                    ],\n",
    "                    \"view\": \"timeSeries\",\n",
    "                    \"stacked\": False,\n",
    "                    \"region\": AWS.region,\n",
    "                    \"title\": \"Cluster Memory Utilization\",\n",
    "                    \"stat\": \"Average\",\n",
    "                    \"period\": 300\n",
    "                }\n",
    "            },\n",
    "    ]\n",
    "    \n",
    "    y += widget_height"
   ],
   "metadata": {
    "collapsed": false,
    "pycharm": {
     "name": "#%%\n"
    }
   }
  },
  {
   "cell_type": "code",
   "execution_count": null,
   "outputs": [],
   "source": [
    "if ECS_CLUSTER:\n",
    "    # ECS Service Widget\n",
    "    widget_height = 9\n",
    "    cpu_metrics = []\n",
    "    mem_metrics = []\n",
    "    \n",
    "    for ecs_service in ECS_CLUSTER.services:\n",
    "        if ecs_service in EXCLUDED_ECS_SERVICES:\n",
    "            continue\n",
    "    \n",
    "        cpu_metrics += [\n",
    "            [ \"AWS/ECS\", \"CPUUtilization\", \"ServiceName\", ecs_service.name, \"ClusterName\", ECS_CLUSTER.name, { \"label\": f\"{ecs_service.name} Max\", \"stat\": \"Maximum\" } ],\n",
    "            [ \"...\", { \"label\": f\"{ecs_service.name} Average\", \"stat\": \"Average\" } ]\n",
    "        ]\n",
    "    \n",
    "        mem_metrics += [\n",
    "            [ \"AWS/ECS\", \"MemoryUtilization\", \"ServiceName\", ecs_service.name, \"ClusterName\", ECS_CLUSTER.name, { \"label\": f\"{ecs_service.name} Max\", \"stat\": \"Maximum\" } ],\n",
    "            [ \"...\", { \"label\": f\"{ecs_service.name} Average\", \"stat\": \"Average\" } ]\n",
    "        ]\n",
    "        \n",
    "    \n",
    "    dashboard_source['widgets'] += [\n",
    "            {\n",
    "                \"type\": \"metric\",\n",
    "                \"x\": 0,\n",
    "                \"y\": y,\n",
    "                \"width\": 12,\n",
    "                \"height\": widget_height,\n",
    "                \"properties\": {\n",
    "                    \"metrics\": cpu_metrics,\n",
    "                    \"view\": \"timeSeries\",\n",
    "                    \"stacked\": False,\n",
    "                    \"region\": AWS.region,\n",
    "                    \"title\": \"Service CPU Utilization\",\n",
    "                    \"stat\": \"Average\",\n",
    "                    \"period\": 300\n",
    "                }\n",
    "            },\n",
    "            {\n",
    "                \"type\": \"metric\",\n",
    "                \"x\": 12,\n",
    "                \"y\": y,\n",
    "                \"width\": 12,\n",
    "                \"height\": widget_height,\n",
    "                \"properties\": {\n",
    "                    \"metrics\": mem_metrics,\n",
    "                    \"view\": \"timeSeries\",\n",
    "                    \"stacked\": False,\n",
    "                    \"region\": AWS.region,\n",
    "                    \"title\": \"Service Memory Utilization\",\n",
    "                    \"stat\": \"Average\",\n",
    "                    \"period\": 300\n",
    "                }\n",
    "            },\n",
    "    ]\n",
    "    \n",
    "    y += widget_height"
   ],
   "metadata": {
    "collapsed": false,
    "pycharm": {
     "name": "#%%\n"
    }
   }
  },
  {
   "cell_type": "code",
   "execution_count": null,
   "outputs": [],
   "source": [
    "# Data store Widgets\n",
    "widget_height = 3\n",
    "\n",
    "if RDS_CLUSTER:\n",
    "    dashboard_source['widgets'].append(\n",
    "        {\n",
    "            \"type\": \"metric\",\n",
    "            \"x\": 0,\n",
    "            \"y\": y,\n",
    "            \"width\": 12,\n",
    "            \"height\": widget_height,\n",
    "            \"properties\": {\n",
    "                \"metrics\": [\n",
    "                    [ \"AWS/RDS\", \"CPUUtilization\", \"DBClusterIdentifier\", RDS_CLUSTER ],\n",
    "                    [ \".\", \"Queries\", \".\", \".\" ],\n",
    "                    [ \".\", \"DatabaseConnections\", \".\", \".\" ],\n",
    "                    [ \".\", \"FreeableMemory\", \".\", \".\" ]\n",
    "                ],\n",
    "                \"view\": \"singleValue\",\n",
    "                \"region\": AWS.region,\n",
    "                \"title\": \"RDB\",\n",
    "            }\n",
    "        },\n",
    "    )\n",
    "\n",
    "if ELASTICACHE_CLUSTER:\n",
    "    dashboard_source['widgets'].append(\n",
    "            {\n",
    "                \"type\": \"metric\",\n",
    "                \"x\": 12 if RDS_CLUSTER else 0,\n",
    "                \"y\": y,\n",
    "                \"width\": 12,\n",
    "                \"height\": widget_height,\n",
    "                \"properties\": {\n",
    "                    \"metrics\": [\n",
    "                        [ \"AWS/ElastiCache\", \"CPUUtilization\", \"CacheClusterId\", ELASTICACHE_CLUSTER ],\n",
    "                        [ \".\", \"CacheHitRate\", \".\", \".\" ],\n",
    "                        [ \".\", \"BytesUsedForCache\", \".\", \".\" ],\n",
    "                        [ \".\", \"CurrConnections\", \".\", \".\" ]\n",
    "                    ],\n",
    "                    \"view\": \"singleValue\",\n",
    "                    \"region\": AWS.region,\n",
    "                    \"title\": \"Cache\",\n",
    "                }\n",
    "            }\n",
    "    )\n",
    "\n",
    "y += widget_height  # In case additional widgets are added later"
   ],
   "metadata": {
    "collapsed": false,
    "pycharm": {
     "name": "#%%\n"
    }
   }
  },
  {
   "cell_type": "code",
   "execution_count": null,
   "outputs": [],
   "source": [
    "with open(f'{SERVICE_NAME}_{AWS.region}_dashboard.json', 'w') as f:\n",
    "    f.write(json.dumps(dashboard_source, indent=2))\n",
    "\n"
   ],
   "metadata": {
    "collapsed": false,
    "pycharm": {
     "name": "#%%\n"
    }
   }
  }
 ],
 "metadata": {
  "kernelspec": {
   "display_name": "Python 3",
   "language": "python",
   "name": "python3"
  },
  "language_info": {
   "codemirror_mode": {
    "name": "ipython",
    "version": 2
   },
   "file_extension": ".py",
   "mimetype": "text/x-python",
   "name": "python",
   "nbconvert_exporter": "python",
   "pygments_lexer": "ipython2",
   "version": "2.7.6"
  }
 },
 "nbformat": 4,
 "nbformat_minor": 0
}