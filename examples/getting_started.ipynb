{
 "cells": [
  {
   "cell_type": "code",
   "execution_count": 1,
   "metadata": {
    "collapsed": true
   },
   "outputs": [],
   "source": [
    "import boto3\n",
    "from double_click import echo\n",
    "\n",
    "from nab3 import AWS as NabAWS,  Filter\n",
    "\n",
    "\"\"\"\n",
    "You should be able to work your way through almost any situation with just 2 classes and 10 methods.\n",
    "You can take these to understand each service and script out all things AWS using nab3.\n",
    "\n",
    "Each of those will be covered here\n",
    "\"\"\"\n",
    "\n",
    "\"\"\"\n",
    "Class 1 is NabAWS (AWS)\n",
    "    This is used as a base connection to retrieve any available service from AWS/boto3\n",
    "\"\"\"\n",
    "AWS = NabAWS(boto3.Session())  # Session is optional"
   ]
  },
  {
   "cell_type": "code",
   "execution_count": 2,
   "outputs": [
    {
     "name": "stdout",
     "output_type": "stream",
     "text": [
      "[\n",
      "  \"alarm\",\n",
      "  \"app_scaling_policy\",\n",
      "  \"asg\",\n",
      "  \"ecs_cluster\",\n",
      "  \"ecs_instance\",\n",
      "  \"ecs_service\",\n",
      "  \"ecs_task\",\n",
      "  \"elasticache_cluster\",\n",
      "  \"elasticache_node\",\n",
      "  \"instance\",\n",
      "  \"kafka_broker\",\n",
      "  \"kafka_cluster\",\n",
      "  \"launch_configuration\",\n",
      "  \"load_balancer\",\n",
      "  \"load_balancer_classic\",\n",
      "  \"metric\",\n",
      "  \"pricing\",\n",
      "  \"rds_cluster\",\n",
      "  \"rds_instance\",\n",
      "  \"scaling_policy\",\n",
      "  \"security_group\"\n",
      "]\n"
     ]
    }
   ],
   "source": [
    "\"\"\"\n",
    "Method 1 is the staticmethod `AWS.service_operations`\n",
    "    This returns a list of all AWS services supported by nab3\n",
    "    These are used as attributes on the AWS class.\n",
    "    For example, ecs_cluster is a supported nab3 service so to interface with it would be `AWS.ecs_cluster`.\n",
    "    From here you can use the typical classmethods supported by the Service class (get or list)\n",
    "\"\"\"\n",
    "\n",
    "echo(AWS.service_options())"
   ],
   "metadata": {
    "collapsed": false,
    "pycharm": {
     "name": "#%%\n"
    }
   }
  },
  {
   "cell_type": "code",
   "execution_count": 3,
   "outputs": [
    {
     "name": "stdout",
     "output_type": "stream",
     "text": [
      "[\n",
      "  {\n",
      "    \"name\": \"cluster\",\n",
      "    \"type\": \"<class 'str'>\"\n",
      "  },\n",
      "  {\n",
      "    \"name\": \"filter\",\n",
      "    \"type\": \"<class 'str'>\"\n",
      "  },\n",
      "  {\n",
      "    \"name\": \"status\",\n",
      "    \"type\": \"<class 'str'>\"\n",
      "  }\n",
      "]\n",
      "[\n",
      "  {\n",
      "    \"name\": \"cluster\",\n",
      "    \"type\": \"<class 'str'>\"\n",
      "  },\n",
      "  {\n",
      "    \"name\": \"id\",\n",
      "    \"type\": \"<class 'list'>\"\n",
      "  },\n",
      "  {\n",
      "    \"name\": \"include\",\n",
      "    \"type\": \"<class 'list'>\"\n",
      "  }\n",
      "]\n"
     ]
    }
   ],
   "source": [
    "\"\"\"\n",
    "Method 2 is the classmethod `Service.list_params`\n",
    "    This method provides each supported argument's name and type for the Service.list classmethod\n",
    "\n",
    "Method 3 is the classmethod `Service.get_params`\n",
    "    This method provides each supported argument's name and type for the Service.get classmethod\n",
    "\"\"\"\n",
    "\n",
    "# Examples of each\n",
    "echo(AWS.ecs_instance.list_params())\n",
    "echo(AWS.ecs_instance.get_params())\n",
    "\n",
    "\"\"\"\n",
    "\n",
    "Method 4 is the classmethod `Service.list`\n",
    "    This method return all of the Service instances that match the provided params.\n",
    "    If no params are provided, all Service instances are returned.\n",
    "\n",
    "    Example:\n",
    "        ecs_clusters = await AWS.ecs_cluster.list()\n",
    "\n",
    "Method 5 is the classmethod `Service.get`\n",
    "    This is used to retrieve a single instance of the AWS Service object.\n",
    "    An exception will be raised if there is no match.\n",
    "\n",
    "    Example using the optional param `with_related`:\n",
    "        example_cluster = await AWS.ecs_cluster.get(name='example', with_related=['asg', 'services'])\n",
    "\n",
    "Method 6 is `service_instance.methods`\n",
    "    Returns a list of all of the service instance's methods\n",
    "\n",
    "    Example:\n",
    "        echo(example_cluster.methods())\n",
    "\n",
    "Method 7 is `service_instance.fields`\n",
    "    Returns a dict of all of the service instance's attributes.\n",
    "    Structure: dict(attr_name=str(attr_type))\n",
    "\n",
    "    Example:\n",
    "        echo(example_cluster.fields())\n",
    "\n",
    "Method 8 is `service_instance.fetch`\n",
    "    Retrieves services related to the current instance. Supports nested calls using __\n",
    "    Example:\n",
    "        ecs_clusters = await AWS.ecs_cluster.list()\n",
    "        await ecs_clusters.fetch('asg__scaling_policies', 'services')\n",
    "        # Now each cluster in ecs_clusters contains all of its services represented as an ECSService instance\n",
    "\n",
    "Method 9 is `service_instance.load`\n",
    "    Retrieves the object from AWS and loads it into the current instance.\n",
    "    This is not a method that will be used very often as it is far less practical than `service_instance.fetch`.\n",
    "    However, it felt like it was worth mentioning.\n",
    "\n",
    "    Example:\n",
    "        example_asg = await AWS.asg.get(name='example')\n",
    "        example_asg.launch_configuration.load()\n",
    "\"\"\""
   ],
   "metadata": {
    "collapsed": false,
    "pycharm": {
     "name": "#%%\n"
    }
   }
  },
  {
   "cell_type": "code",
   "execution_count": 5,
   "outputs": [
    {
     "name": "stdout",
     "output_type": "stream",
     "text": [
      "[\n",
      "  \"contains\",\n",
      "  \"contains_all\",\n",
      "  \"contains_any\",\n",
      "  \"exact\",\n",
      "  \"exact_all\",\n",
      "  \"exact_any\",\n",
      "  \"gt\",\n",
      "  \"gte\",\n",
      "  \"icontains\",\n",
      "  \"icontains_all\",\n",
      "  \"icontains_any\",\n",
      "  \"iexact\",\n",
      "  \"iexact_all\",\n",
      "  \"iexact_any\",\n",
      "  \"lt\",\n",
      "  \"lte\",\n",
      "  \"re\",\n",
      "  \"re_all\",\n",
      "  \"re_any\"\n",
      "]\n"
     ]
    }
   ],
   "source": [
    "\"\"\"\n",
    "Class 2 is `Filter`\n",
    "    Filter provides a class to easily filter service objects using common operations.\n",
    "\n",
    "    The decision to have a filter class and a run method is to make the process of hitting AWS more explicit.\n",
    "    It's also worth mentioning that lookups to AWS can get costly fast and this helps to mitigate that.\n",
    "    This is also why there's no filter method Service class.\n",
    "    nab3 is designed so all necessary data is pulled at once and manipulated through out the script.\n",
    "\n",
    "    For example, if you wanted to get ECS Cluster stats grouped by dev, stg, and prod:\n",
    "\n",
    "    ecs_clusters = await AWS.ecs_cluster.list()\n",
    "    f_prod = Filter(name__icontains_any=['prod-', 'production'])\n",
    "    f_stg = Filter(name__icontains_any=['stg-', 'staging'])\n",
    "    f_dev = Filter(name__icontains_any=['dev-', 'development'])\n",
    "    prod_clusters = await f.run(ecs_clusters)\n",
    "    stg_clusters = await f.run(ecs_clusters)\n",
    "    dev_clusters = await f.run(ecs_clusters)\n",
    "\n",
    "    # If this was an allowed method, the unassuming eye would think these were the same.\n",
    "    # Surprise! The number of lookups is 3n (if there were a dev and stg equivalent for each prod cluster)\n",
    "    prod_clusters = await AWS.ecs_cluster.filter(name__icontains_any=['prod-', 'production'])\n",
    "    stg_clusters = await AWS.ecs_cluster.filter(name__icontains_any=['stg-', 'staging'])\n",
    "    dev_clusters = await AWS.ecs_cluster.filter(name__icontains_any=['dev-', 'development'])\n",
    "\n",
    "    Why? Because these evaluations are done as part of nab3 and are not supported by boto3 or the AWS API.\n",
    "\n",
    "    To inspect nested services use __. For example, to get a list of all ecs clusters with an api service:\n",
    "    await ecs_clusters.fetch('services')\n",
    "    api_filter = Filter(services__name__icontains_any=['api'])\n",
    "    api_clusters = await api_filter.run(ecs_clusters)\n",
    "\n",
    "Method 10 is the staticmethod `Filter.operations`\n",
    "    Contains a list of every operation supported in Filter().run\n",
    "\"\"\"\n",
    "\n",
    "echo(Filter.operations())"
   ],
   "metadata": {
    "collapsed": false,
    "pycharm": {
     "name": "#%%\n"
    }
   }
  }
 ],
 "metadata": {
  "kernelspec": {
   "display_name": "Python 3",
   "language": "python",
   "name": "python3"
  },
  "language_info": {
   "codemirror_mode": {
    "name": "ipython",
    "version": 2
   },
   "file_extension": ".py",
   "mimetype": "text/x-python",
   "name": "python",
   "nbconvert_exporter": "python",
   "pygments_lexer": "ipython2",
   "version": "2.7.6"
  }
 },
 "nbformat": 4,
 "nbformat_minor": 0
}