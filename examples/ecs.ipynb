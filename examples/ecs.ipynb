{
 "cells": [
  {
   "cell_type": "code",
   "execution_count": 1,
   "metadata": {
    "collapsed": true,
    "pycharm": {
     "is_executing": false
    }
   },
   "outputs": [],
   "source": [
    "import asyncio\n",
    "from datetime import datetime as dt, timedelta\n",
    "\n",
    "from nab3 import AWS as NabAWS\n",
    "from nab3.helpers.cloud_watch import md_statistics_summary\n",
    "from nab3.utils import Filter\n",
    "\n",
    "AWS = NabAWS()\n",
    "ECS_CLUSTERS = await AWS.ecs_cluster.list()"
   ]
  },
  {
   "cell_type": "code",
   "execution_count": 2,
   "outputs": [
    {
     "name": "stdout",
     "text": [
      "['houston', 'cheyenne']\n"
     ],
     "output_type": "stream"
    }
   ],
   "source": [
    "f = Filter(name__icontains_any=['sample_cluster_1', 'sample_cluster_2'])\n",
    "filtered_clusters = await f.run(ECS_CLUSTERS)\n",
    "print([c.name for c in filtered_clusters])"
   ],
   "metadata": {
    "collapsed": false,
    "pycharm": {
     "name": "#%%\n",
     "is_executing": false
    }
   }
  },
  {
   "cell_type": "code",
   "execution_count": 9,
   "outputs": [],
   "source": [
    "MINUTE = 60\n",
    "HOUR = MINUTE * 60\n",
    "DAY = HOUR * 24\n",
    "\n",
    "async def get_cluster_stats(ecs_cluster, start_date=dt.now()-timedelta(days=30), end_date=dt.now()) -> dict:\n",
    "    async def _stat(metric):\n",
    "        return dict(\n",
    "            metric=metric,\n",
    "            stats=ecs_cluster.get_statistics(metric_name=metric,\n",
    "                                             statistics=['Average', 'Maximum'],\n",
    "                                             start_time=start_date,\n",
    "                                             end_time=end_date,\n",
    "                                             interval_as_seconds=MINUTE*30)\n",
    "        )\n",
    "    stats = await asyncio.gather(*[_stat(metric) for metric in ['CPUUtilization', 'MemoryUtilization']])\n",
    "    return dict(ecs_cluster=ecs_cluster, stats=stats)\n",
    "\n",
    "\n",
    "cluster_stats = await asyncio.gather(*[get_cluster_stats(ecs_cluster) for ecs_cluster in filtered_clusters])"
   ],
   "metadata": {
    "collapsed": false,
    "pycharm": {
     "name": "#%%\n",
     "is_executing": false
    }
   }
  },
  {
   "cell_type": "code",
   "source": [
    "md_output = \"\"\n",
    "for cluster_dict in cluster_stats:\n",
    "    cluster = cluster_dict['ecs_cluster']\n",
    "    md_output += f\"#{cluster.name}\\n\"\n",
    "    \n",
    "    for stat_dict in cluster_dict['stats']:\n",
    "        md_output += md_statistics_summary(stat_dict['stats'], stat_dict['metric'], False)\n",
    "\n",
    "    md_output += \"\\n---\\n\"\n",
    "\n",
    "with open('cluster_stats.md', 'w') as f:\n",
    "    f.write(md_output)\n",
    "\n"
   ],
   "metadata": {
    "collapsed": false,
    "pycharm": {
     "name": "#%%\n",
     "is_executing": false
    }
   },
   "execution_count": 10,
   "outputs": []
  }
 ],
 "metadata": {
  "kernelspec": {
   "display_name": "Python 3",
   "language": "python",
   "name": "python3"
  },
  "language_info": {
   "codemirror_mode": {
    "name": "ipython",
    "version": 2
   },
   "file_extension": ".py",
   "mimetype": "text/x-python",
   "name": "python",
   "nbconvert_exporter": "python",
   "pygments_lexer": "ipython2",
   "version": "2.7.6"
  },
  "pycharm": {
   "stem_cell": {
    "cell_type": "raw",
    "source": [],
    "metadata": {
     "collapsed": false
    }
   }
  }
 },
 "nbformat": 4,
 "nbformat_minor": 0
}